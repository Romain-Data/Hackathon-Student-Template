{
 "cells": [
  {
   "cell_type": "code",
   "execution_count": 24,
   "id": "933d9164",
   "metadata": {},
   "outputs": [],
   "source": [
    "import pandas as pd\n",
    "import google.generativeai as genai\n",
    "from dotenv import load_dotenv\n",
    "import os\n"
   ]
  },
  {
   "cell_type": "code",
   "execution_count": 25,
   "id": "dd6365eb",
   "metadata": {},
   "outputs": [],
   "source": [
    "\n",
    "# Charger les variables d'environnement\n",
    "load_dotenv()\n",
    "\n",
    "# Configuration sécurisée\n",
    "GEMINI_API_KEY = os.getenv('GEMINI_API_KEY')\n",
    "\n",
    "if not GEMINI_API_KEY:\n",
    "    raise ValueError(\"❌ Clé API manquante ! Vérifie ton fichier .env\")\n",
    "\n",
    "genai.configure(api_key=GEMINI_API_KEY)\n",
    "model = genai.GenerativeModel('gemini-2.5-flash')\n"
   ]
  },
  {
   "cell_type": "markdown",
   "id": "1212ba54",
   "metadata": {},
   "source": [
    "# CALCUL DES STATISTIQUES"
   ]
  },
  {
   "cell_type": "code",
   "execution_count": 26,
   "id": "6b474ddf",
   "metadata": {},
   "outputs": [],
   "source": [
    "df = pd.read_csv('donnees_utilisateur.csv')\n",
    "\n",
    "# Déterminer si le joueur a gagné, perdu ou fait nul\n",
    "def determine_result(row):\n",
    "    if row['winner'] == 'TIE':\n",
    "        return 'Nul'\n",
    "    elif row['winner'] == row['team']:\n",
    "        return 'Victoire'\n",
    "    else:\n",
    "        return 'Défaite'\n",
    "\n",
    "df['Résultat'] = df.apply(determine_result, axis=1)\n",
    "\n",
    "# Stats globales\n",
    "stats = {\n",
    "    'totalGames': len(df),\n",
    "    'wins': len(df[df['Résultat'] == 'Victoire']),\n",
    "    'losses': len(df[df['Résultat'] == 'Défaite']),\n",
    "    'ties': len(df[df['Résultat'] == 'Nul']),\n",
    "}\n",
    "\n",
    "stats['winrate'] = round((stats['wins'] / stats['totalGames']) * 100, 2)\n",
    "\n",
    "# Stats par rôle\n",
    "stats['roleDistribution'] = df['role'].value_counts().to_dict()\n",
    "\n",
    "# Winrate par rôle\n",
    "def calculate_winrate_by_role(df, role):\n",
    "    role_games = df[df['role'] == role]\n",
    "    if len(role_games) == 0:\n",
    "        return 0\n",
    "    wins = len(role_games[role_games['Résultat'] == 'Victoire'])\n",
    "    return round((wins / len(role_games)) * 100, 2)\n",
    "\n",
    "stats['winrateByRole'] = {\n",
    "    'DEF': calculate_winrate_by_role(df, 'DEF'),\n",
    "    'ATK': calculate_winrate_by_role(df, 'ATK')\n",
    "}\n",
    "\n",
    "# Buts moyens par rôle (en retirant les buts contre son camp)\n",
    "df['buts_nets'] = df['player_goals'] - df['player_own_goals']\n",
    "\n",
    "stats['goalsByRole'] = {\n",
    "    'DEF': round(df[df['role'] == 'DEF']['buts_nets'].mean(), 2),\n",
    "    'ATK': round(df[df['role'] == 'ATK']['buts_nets'].mean(), 2),\n",
    "    'overall': round(df['buts_nets'].mean(), 2)\n",
    "}\n",
    "\n",
    "stats['totalGoals'] = int(df['player_goals'].sum())\n",
    "stats['totalOwnGoals'] = int(df['player_own_goals'].sum())\n",
    "stats['totalSaves'] = int(df['player_saves'].sum())\n",
    "stats['avgSaves'] = round(df['player_saves'].mean(), 2)\n",
    "stats['avgGoals'] = round(df['buts_nets'].mean(), 2)\n"
   ]
  },
  {
   "cell_type": "markdown",
   "id": "2e05fb45",
   "metadata": {},
   "source": [
    "# GÉNÉRATION DU CONSEIL AVEC GEMINI"
   ]
  },
  {
   "cell_type": "code",
   "execution_count": 27,
   "id": "6cfb0892",
   "metadata": {},
   "outputs": [],
   "source": [
    "prompt = f\"\"\"\n",
    "Tu es un coach professionnel de Baby-foot. Analyse mes statistiques et donne 1 conseil concret pour augmenter mes chances de victoire au prochain match :\n",
    "\n",
    "📊 MES STATISTIQUES :\n",
    "- Matchs joués : {stats['totalGames']}\n",
    "- Winrate global : {stats['winrate']}%\n",
    "- Victoires : {stats['wins']} | Défaites : {stats['losses']} | Nuls : {stats['ties']}\n",
    "\n",
    "🎯 PAR RÔLE :\n",
    "- Défenseur : {stats['roleDistribution'].get('DEF', 0)} matchs (WR: {stats['winrateByRole']['DEF']}%, {stats['goalsByRole']['DEF']} buts/match)\n",
    "- Attaquant : {stats['roleDistribution'].get('ATK', 0)} matchs (WR: {stats['winrateByRole']['ATK']}%, {stats['goalsByRole']['ATK']} buts/match)\n",
    "\n",
    "⚽ PERFORMANCES :\n",
    "- Buts totaux : {stats['totalGoals']}\n",
    "- Arrêts totaux : {stats['totalSaves']} (moy: {stats['avgSaves']}/match)\n",
    "\n",
    "EXEMPLES DE RÉPONSE ATTENDUE:\n",
    "- \"Tu gagnes plus de matchs quand tu joues en défense (statistique). Privilégie ce rôle\"\n",
    "- \"Tes statisques montrent un ratio de but/match plus élevé quand tu joues l'équipe bleu.\" \n",
    "\n",
    "Ne donne que le conseil et les statistiques sur lesquelles tu t'appuies. Sois concis et efficace.\n",
    "\"\"\"\n",
    "\n",
    "response = model.generate_content(prompt)\n",
    "conseil = response.text\n"
   ]
  },
  {
   "cell_type": "markdown",
   "id": "03346b47",
   "metadata": {},
   "source": [
    "# EXPORT EN TXT"
   ]
  },
  {
   "cell_type": "code",
   "execution_count": 28,
   "id": "8b42e1c4",
   "metadata": {},
   "outputs": [
    {
     "name": "stdout",
     "output_type": "stream",
     "text": [
      "✅ Analyse terminée ! Fichier 'conseils_gemini.txt' créé.\n",
      "\n",
      "📊 STATS :\n",
      "{'totalGames': 91, 'wins': 41, 'losses': 45, 'ties': 5, 'winrate': 45.05, 'roleDistribution': {'DEF': 59, 'ATK': 32}, 'winrateByRole': {'DEF': 45.76, 'ATK': 43.75}, 'goalsByRole': {'DEF': 2.66, 'ATK': 2.28, 'overall': 2.53}, 'totalGoals': 232, 'totalOwnGoals': 2, 'totalSaves': 465, 'avgSaves': 5.11, 'avgGoals': 2.53}\n",
      "\n",
      "💡 CONSEILS :\n",
      "Privilégie le rôle de défenseur. Ton winrate est plus élevé dans ce rôle (45.76% contre 43.75% en attaque).\n"
     ]
    }
   ],
   "source": [
    "with open('conseils_gemini.txt', 'w', encoding='utf-8') as f:\n",
    "    f.write(\"=\" * 50 + \"\\n\")\n",
    "    f.write(\"CONSEILS D'AMÉLIORATION\\n\")\n",
    "    f.write(\"=\" * 50 + \"\\n\\n\")\n",
    "    f.write(conseil)\n",
    "    f.write(\"\\n\\n\" + \"=\" * 50 + \"\\n\")\n",
    "    f.write(\"Statistiques analysées :\\n\")\n",
    "    f.write(f\"- {stats['totalGames']} matchs\\n\")\n",
    "    f.write(f\"- Winrate : {stats['winrate']}%\\n\")\n",
    "\n",
    "print(\"✅ Analyse terminée ! Fichier 'conseils_gemini.txt' créé.\")\n",
    "print(\"\\n📊 STATS :\")\n",
    "print(stats)\n",
    "print(\"\\n💡 CONSEILS :\")\n",
    "print(conseil)\n"
   ]
  }
 ],
 "metadata": {
  "kernelspec": {
   "display_name": "base",
   "language": "python",
   "name": "python3"
  },
  "language_info": {
   "codemirror_mode": {
    "name": "ipython",
    "version": 3
   },
   "file_extension": ".py",
   "mimetype": "text/x-python",
   "name": "python",
   "nbconvert_exporter": "python",
   "pygments_lexer": "ipython3",
   "version": "3.12.4"
  }
 },
 "nbformat": 4,
 "nbformat_minor": 5
}
