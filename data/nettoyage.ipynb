{
 "cells": [
  {
   "cell_type": "code",
   "execution_count": 2,
   "id": "6583062f",
   "metadata": {},
   "outputs": [],
   "source": [
    "import pandas as pd\n",
    "import re"
   ]
  },
  {
   "cell_type": "markdown",
   "id": "6372b81c",
   "metadata": {},
   "source": [
    "# Inport du dataset"
   ]
  },
  {
   "cell_type": "code",
   "execution_count": 3,
   "id": "0899624e",
   "metadata": {},
   "outputs": [],
   "source": [
    "df = pd.read_csv('../ressources/babyfoot_dataset.csv', low_memory=False)"
   ]
  },
  {
   "cell_type": "markdown",
   "id": "460c96ba",
   "metadata": {},
   "source": [
    "# Nettoyage\n",
    "\n",
    "## Suppression des colonnes inutiles"
   ]
  },
  {
   "cell_type": "code",
   "execution_count": 4,
   "id": "990a8010",
   "metadata": {},
   "outputs": [],
   "source": [
    "df.drop([\n",
    "        'table_condition',\n",
    "        'ball_type', \n",
    "        'music_playing', \n",
    "        'referee', \n",
    "        'attendance_count',\n",
    "        'season', \n",
    "        'recorded_by', \n",
    "        'rating_raw', \n",
    "        'player_age',\n",
    "        'player_assists',\n",
    "        'possession_time',\n",
    "        'mood', \n",
    "        'player_comment', \n",
    "        'is_substitute', \n",
    "        'ping_ms',\n",
    "        'notes', \n",
    "        'duplicate_flag',\n",
    "        'misc', \n",
    "        'created_at'],\n",
    "    axis=1, inplace=True)"
   ]
  },
  {
   "cell_type": "markdown",
   "id": "e050aeeb",
   "metadata": {},
   "source": [
    "## Nettoyage et formatage de la colonne date "
   ]
  },
  {
   "cell_type": "code",
   "execution_count": 5,
   "id": "69ab9a45",
   "metadata": {},
   "outputs": [],
   "source": [
    "# Suppression des caractères parasites\n",
    "\n",
    "def clean_date(date_str):\n",
    "    if pd.isna(date_str):\n",
    "        return date_str\n",
    "    date_str = str(date_str)\n",
    "    date_str = re.sub(r'(\\d+)(st|nd|rd|th)', r'\\1', date_str)\n",
    "    date_str = date_str.replace('.', '')\n",
    "    return date_str\n",
    "\n",
    "\n",
    "# Conversion des différents formats de date\n",
    "def convert_date(date_str):\n",
    "    if pd.isna(date_str):\n",
    "        return pd.NaT\n",
    "        \n",
    "    date_str = str(date_str).strip()\n",
    "    \n",
    "    # Liste des formats possibles\n",
    "    formats = [\n",
    "        '%b %d %Y',        # Feb 06 2023\n",
    "        '%d-%m-%Y',        # 24-03-2023\n",
    "        '%Y-%m-%d',        # 2025-01-13\n",
    "        '%d %b %y',        # 30 Sep 23\n",
    "        '%Y/%m/%d',        # 2023/07/04\n",
    "        '%d/%m/%y',        # 24/06/23\n",
    "        '%m/%d/%Y',        # 02/18/2024\n",
    "        '%d %b %Y',        # 20 Mar 2023\n",
    "    ]\n",
    "    \n",
    "    for format in formats:\n",
    "        try:\n",
    "            return pd.to_datetime(date_str, format=format)\n",
    "        except:\n",
    "            continue\n",
    "    \n",
    "    # Si aucun format ne marche, retourner NaT\n",
    "    return pd.NaT\n",
    "\n",
    "\n",
    "df['game_date'] = df['game_date'].apply(clean_date)\n",
    "df['game_date'] = df['game_date'].apply(convert_date)"
   ]
  },
  {
   "cell_type": "markdown",
   "id": "68ea1ca3",
   "metadata": {},
   "source": [
    "## Nettoyage de la colonne game_duration"
   ]
  },
  {
   "cell_type": "code",
   "execution_count": 6,
   "id": "9e664c21",
   "metadata": {},
   "outputs": [],
   "source": [
    "def convert_in_second(duration):\n",
    "    \n",
    "    \"\"\"Convertit différents formats de durée en secondes (int)\"\"\"\n",
    "    \n",
    "    if pd.isna(duration):\n",
    "        return None\n",
    "    \n",
    "    duration_str = str(duration).strip()\n",
    "    \n",
    "    # Format 1: \"6min\" ou \"6 min\"\n",
    "    if 'min' in duration_str.lower():\n",
    "        minutes = int(re.search(r'(\\d+)', duration_str).group(1))\n",
    "        return minutes * 60\n",
    "    \n",
    "    # Format 2: \"00:05:55\" (heures:minutes:secondes)\n",
    "    elif ':' in duration_str:\n",
    "        parties = duration_str.split(':')\n",
    "        if len(parties) == 3:  # HH:MM:SS\n",
    "            heures, minutes, secondes = map(int, parties)\n",
    "            return heures * 3600 + minutes * 60 + secondes\n",
    "        elif len(parties) == 2:  # MM:SS\n",
    "            minutes, secondes = map(int, parties)\n",
    "            return minutes * 60 + secondes\n",
    "    \n",
    "    # Format 3: \"12.45\" (minutes.secondes)\n",
    "    elif '.' in duration_str:\n",
    "        parties = duration_str.split('.')\n",
    "        if parties[0].isdigit() and parties[1].isdigit():\n",
    "            minutes = int(parties[0])\n",
    "            secondes = int(parties[1])\n",
    "            return minutes * 60 + secondes\n",
    "\n",
    "    # Si c'est juste un nombre entier\n",
    "    else:\n",
    "        return int(float(duration_str))\n",
    "    \n",
    "    return None\n",
    "\n",
    "df['game_duration'] = df['game_duration'].apply(convert_in_second)\n",
    "df['game_duration'] = df['game_duration'].fillna(0).astype(int)\n",
    "\n",
    "# Je supprime les durées abbérantes de plus de 20min\n",
    "too_long = df['game_duration']>1200\n",
    "df = df[~too_long]\n"
   ]
  },
  {
   "cell_type": "markdown",
   "id": "cbafa40a",
   "metadata": {},
   "source": [
    "# Nettoyage des colonnes game_id, game_id et player_id pour ne garder qu'un format int pour les rendre compatibles avec les futures données"
   ]
  },
  {
   "cell_type": "code",
   "execution_count": 7,
   "id": "83fa3031",
   "metadata": {},
   "outputs": [
    {
     "name": "stderr",
     "output_type": "stream",
     "text": [
      "<>:1: SyntaxWarning: invalid escape sequence '\\d'\n",
      "<>:2: SyntaxWarning: invalid escape sequence '\\d'\n",
      "<>:3: SyntaxWarning: invalid escape sequence '\\d'\n",
      "<>:1: SyntaxWarning: invalid escape sequence '\\d'\n",
      "<>:2: SyntaxWarning: invalid escape sequence '\\d'\n",
      "<>:3: SyntaxWarning: invalid escape sequence '\\d'\n",
      "/var/folders/l2/4bhymbh53d3_vrys9v8mb6hw0000gn/T/ipykernel_80577/3197665340.py:1: SyntaxWarning: invalid escape sequence '\\d'\n",
      "  df['game_id'] = df['game_id'].str.extract('(\\d+)').astype(int)\n",
      "/var/folders/l2/4bhymbh53d3_vrys9v8mb6hw0000gn/T/ipykernel_80577/3197665340.py:2: SyntaxWarning: invalid escape sequence '\\d'\n",
      "  df['table_id'] = df['table_id'].str.extract('(\\d+)').astype(int)\n",
      "/var/folders/l2/4bhymbh53d3_vrys9v8mb6hw0000gn/T/ipykernel_80577/3197665340.py:3: SyntaxWarning: invalid escape sequence '\\d'\n",
      "  df['player_id'] = df['player_id'].str.extract('(\\d+)').astype(int)\n"
     ]
    }
   ],
   "source": [
    "df['game_id'] = df['game_id'].str.extract('(\\d+)').astype(int)\n",
    "df['table_id'] = df['table_id'].str.extract('(\\d+)').astype(int)\n",
    "df['player_id'] = df['player_id'].str.extract('(\\d+)').astype(int)\n"
   ]
  },
  {
   "cell_type": "markdown",
   "id": "6ee5f221",
   "metadata": {},
   "source": [
    "## Nettoyage des colonnes player_goals, player_own_goals"
   ]
  },
  {
   "cell_type": "code",
   "execution_count": 8,
   "id": "54157d19",
   "metadata": {},
   "outputs": [],
   "source": [
    "mapping_nombres = {\n",
    "    'one': 1,\n",
    "    'two': 2,\n",
    "    'three': 3,\n",
    "    'ten': 10\n",
    "}\n",
    "\n",
    "df['player_goals'] = df['player_goals'].replace(mapping_nombres)\n",
    "df['player_goals'] = pd.to_numeric(df['player_goals'], errors='coerce')\n",
    "df['player_own_goals'] = pd.to_numeric(df['player_own_goals'], errors='coerce')\n",
    "\n",
    "df = df.dropna(subset=['player_goals', 'player_own_goals'])\n",
    "\n",
    "df['player_goals'] = df['player_goals'].astype(int)\n",
    "df['player_own_goals'] = df['player_own_goals'].astype(int)"
   ]
  },
  {
   "cell_type": "markdown",
   "id": "cc2275c2",
   "metadata": {},
   "source": [
    "## Nettoyage des colonnes de score"
   ]
  },
  {
   "cell_type": "code",
   "execution_count": 9,
   "id": "79279465",
   "metadata": {},
   "outputs": [],
   "source": [
    "# 1. Sélectionner les lignes concernées\n",
    "lignes_a_traiter = df['final_score_blue'].isna()\n",
    "\n",
    "# 2. Séparer le score en deux colonnes\n",
    "scores_separes = df.loc[lignes_a_traiter, 'final_score_red'].str.split(r'\\s*-\\s*', expand=True, regex=True)\n",
    "\n",
    "# 3. Assigner aux bonnes colonnes (et convertir en int)\n",
    "df.loc[lignes_a_traiter, 'final_score_blue'] = scores_separes[0]\n",
    "df.loc[lignes_a_traiter, 'final_score_red'] = scores_separes[1]\n",
    "df['final_score_blue'] = pd.to_numeric(df['final_score_blue'], errors='coerce').astype('Int64')\n",
    "df['final_score_red'] = pd.to_numeric(df['final_score_red'], errors='coerce').astype('Int64')\n",
    "\n",
    "# 4. Supprimer les lignes avec des valeurs nulles\n",
    "df = df.dropna(subset=['final_score_blue', 'final_score_red'])"
   ]
  },
  {
   "cell_type": "markdown",
   "id": "8d03f1b9",
   "metadata": {},
   "source": [
    "## Nettoyage de la colonne winner"
   ]
  },
  {
   "cell_type": "code",
   "execution_count": 10,
   "id": "9d417170",
   "metadata": {},
   "outputs": [],
   "source": [
    "# 1. Mettre en majuscule et nettoyer les espaces\n",
    "df['winner'] = df['winner'].str.strip().str.upper()\n",
    "\n",
    "# 2. Créer un mapping pour uniformiser\n",
    "mapping = {\n",
    "    'BLUE': 'BLUE',\n",
    "    'BLEU': 'BLUE',\n",
    "    'B': 'BLUE',\n",
    "    'RED': 'RED',\n",
    "    'R': 'RED',\n",
    "    'TIE': 'TIE',\n",
    "    'DRAW': 'TIE',\n",
    "    'ÉGALITÉ': 'TIE'\n",
    "}\n",
    "\n",
    "# 3. Appliquer le mapping\n",
    "df['winner'] = df['winner'].map(mapping)\n",
    "\n",
    "# 4. Supprimer les valeurs invalides (pas 'BLUE', 'RED', 'TIE', ou NaN)\n",
    "\n",
    "valeurs_valides = ['BLUE', 'RED', 'TIE']\n",
    "\n",
    "lignes_invalides = ~(df['winner'].isin(valeurs_valides) | df['winner'].isna())\n",
    "\n",
    "if lignes_invalides.sum() > 0:\n",
    "    df = df[~lignes_invalides].copy()\n",
    "\n",
    "\n",
    "# 5. Attribuer un gagnant si le winner est NaN\n",
    "\n",
    "def determiner_gagnant(row):\n",
    "    \"\"\"\n",
    "    Compare les scores et retourne le gagnant\n",
    "    \"\"\"\n",
    "    blue = row['final_score_blue']\n",
    "    red = row['final_score_red']\n",
    "    \n",
    "    # Si un des scores est NaN, on ne peut pas déterminer\n",
    "    if pd.isna(blue) or pd.isna(red):\n",
    "        return None\n",
    "    \n",
    "    if blue > red:\n",
    "        return 'BLUE'\n",
    "    elif red > blue:\n",
    "        return 'RED'\n",
    "    else:\n",
    "        return 'TIE'\n",
    "\n",
    "\n",
    "# Identifier les lignes avec NaN dans winner\n",
    "lignes_nan = df['winner'].isna()\n",
    "df.loc[lignes_nan, 'winner'] = df.loc[lignes_nan].apply(determiner_gagnant, axis=1)\n",
    "\n",
    "\n",
    "# 6. Vérifier la cohérence des winner déjà existants\n",
    "def verifier_coherence(df):\n",
    "    \"\"\"\n",
    "    Vérifie que le winner correspond aux scores\n",
    "    \"\"\"\n",
    "    def est_coherent(row):\n",
    "        if pd.isna(row['winner']) or pd.isna(row['final_score_blue']) or pd.isna(row['final_score_red']):\n",
    "            return True  # On ne peut pas vérifier\n",
    "        \n",
    "        blue = row['final_score_blue']\n",
    "        red = row['final_score_red']\n",
    "        winner = row['winner']\n",
    "        \n",
    "        if blue > red and winner == 'BLUE':\n",
    "            return True\n",
    "        elif red > blue and winner == 'RED':\n",
    "            return True\n",
    "        elif blue == red and winner == 'TIE':\n",
    "            return True\n",
    "        else:\n",
    "            return False\n",
    "    \n",
    "    coherence = df.apply(est_coherent, axis=1)\n",
    "    \n",
    "    return df[coherence].copy()\n",
    "\n",
    "\n",
    "df = verifier_coherence(df)"
   ]
  },
  {
   "cell_type": "markdown",
   "id": "f1ef7415",
   "metadata": {},
   "source": [
    "## Nettoyage de la colonne player_role"
   ]
  },
  {
   "cell_type": "code",
   "execution_count": 11,
   "id": "6ac28960",
   "metadata": {},
   "outputs": [],
   "source": [
    "# On dénifit 3 valeurs possibles ATK, DEF et FULL pour les 1v1\n",
    "\n",
    "df['player_role'] = df['player_role'].str.strip().str.upper()\n",
    "\n",
    "mapping = {\n",
    "    'ATTACK': 'ATK',\n",
    "    'ATTCK': 'ATK', \n",
    "    'ATK': 'ATK',\n",
    "    'ATACK': 'ATK',\n",
    "\n",
    "    'DEFENSE': 'DEF',\n",
    "    'DEFENCE': 'DEF', \n",
    "    'DEF': 'DEF',\n",
    "}\n",
    "\n",
    "df['player_role'] = df['player_role'].map(mapping)\n",
    "\n",
    "# Suppression des lignes où le rôle n'est pas défini\n",
    "df = df[df['player_role'].notna()]\n"
   ]
  },
  {
   "cell_type": "markdown",
   "id": "dc990f97",
   "metadata": {},
   "source": [
    "## Nettoyage de team_color "
   ]
  },
  {
   "cell_type": "code",
   "execution_count": 12,
   "id": "9a58b3b5",
   "metadata": {},
   "outputs": [],
   "source": [
    "df['team_color'] = df['team_color'].str.strip().str.upper()\n",
    "\n",
    "mapping = {\n",
    "    'RED': 'RED',\n",
    "    'R': 'RED',\n",
    "    'ROUGE': 'RED',\n",
    "    '🔴': 'RED',\n",
    "    'RED�': 'RED',  # Caractère corrompu\n",
    "    \n",
    "    'BLUE': 'BLUE',\n",
    "    'BLEU': 'BLUE',\n",
    "    'B': 'BLUE',\n",
    "    '🔵': 'BLUE',\n",
    "    'BLUE�': 'BLUE'  # Caractère corrompu\n",
    "}\n",
    "\n",
    "df['team_color'] = df['team_color'].map(mapping)\n",
    "\n",
    "# Suppression des valeurs NaN\n",
    "df = df.dropna(subset=['team_color'])"
   ]
  },
  {
   "cell_type": "markdown",
   "id": "4d8416f1",
   "metadata": {},
   "source": [
    "## Nettoyage et mise en forme des noms de joueurs"
   ]
  },
  {
   "cell_type": "code",
   "execution_count": 13,
   "id": "7da0e1b3",
   "metadata": {},
   "outputs": [],
   "source": [
    "df[['name', 'surname']] = df['player_canonical_name'].str.split(' ', expand=True)\n",
    "df['surname'] = df['surname'].str.upper()\n",
    "df['name'] = df['name'].str.capitalize()\n",
    "df = df.drop('player_canonical_name', axis=1)"
   ]
  },
  {
   "cell_type": "markdown",
   "id": "1a87ac72",
   "metadata": {},
   "source": [
    "## Renommage des colonnes"
   ]
  },
  {
   "cell_type": "code",
   "execution_count": 14,
   "id": "a7ab2b70",
   "metadata": {},
   "outputs": [],
   "source": [
    "nouveau_noms = {\n",
    "    'game_date': 'date',\n",
    "    'game_duration': 'duration',\n",
    "    'final_score_red': 'red_goal',\n",
    "    'final_score_blue': 'blue_goal',\n",
    "    'team_color': 'team',\n",
    "    'player_role': 'role',\n",
    "    'player_name': 'pseudo',\n",
    "    'player_id': 'user_id'\n",
    "}\n",
    "\n",
    "df = df.rename(columns=nouveau_noms)"
   ]
  },
  {
   "cell_type": "markdown",
   "id": "afdb47e0",
   "metadata": {},
   "source": [
    "# Exports\n",
    "\n",
    "## Création des différents csv, un par table + renommage des colonnes"
   ]
  },
  {
   "cell_type": "code",
   "execution_count": null,
   "id": "fef5ae87",
   "metadata": {},
   "outputs": [],
   "source": [
    "df_user = df[\n",
    "    [\n",
    "        'user_id', \n",
    "        'name', \n",
    "        'surname',\n",
    "        'pseudo']\n",
    "    ].rename(columns={\n",
    "        'user_id': 'id'\n",
    "})\n",
    "df_user['mail'] = f\"{df_user['name'].str.lower()}.{df_user['surname']}@ynov-super-school.com\"\n",
    "df_user['password'] = \"password\"\n",
    "\n",
    "df_user_game = df[\n",
    "    [\n",
    "        'user_id', \n",
    "        'game_id', \n",
    "        'role',\n",
    "        'team']\n",
    "    ]\n",
    "\n",
    "df_game = df[\n",
    "    [\n",
    "        'game_id', \n",
    "        'date', \n",
    "        'table_id',\n",
    "        'duration',\n",
    "        'red_goal',\n",
    "        'blue_goal',\n",
    "        'winner',\n",
    "        ]\n",
    "    ].rename(columns={\n",
    "        'game_id': 'id'\n",
    "})\n",
    "\n",
    "df_baby_foot_table = df[\n",
    "    [\n",
    "        'table_id', \n",
    "        'location']\n",
    "    ].rename(columns={\n",
    "        'table_id': 'id'\n",
    "})\n",
    "\n",
    "\n",
    "# Chaque table devrait en théorie contenir des lignes uniques (id)\n",
    "df_user = df_user.drop_duplicates('id').sort_values('id').reset_index(drop=True)\n",
    "df_user_game = df_user_game.drop_duplicates().sort_values('user_id').reset_index(drop=True)\n",
    "df_game = df_game.drop_duplicates('id').sort_values('id').reset_index(drop=True)\n",
    "df_table = df_baby_foot_table.drop_duplicates('id').sort_values('id').reset_index(drop=True)\n",
    "\n",
    "\n",
    "# Exporter directement\n",
    "df_user.to_csv('user.csv', index=False)\n",
    "df_user_game.to_csv('user_game.csv', index=False)\n",
    "df_game.to_csv('game.csv', index=False)\n",
    "df_baby_foot_table.to_csv('baby_foot_table.csv', index=False)"
   ]
  },
  {
   "cell_type": "markdown",
   "id": "19c16929",
   "metadata": {},
   "source": [
    "## Export du dataset propre"
   ]
  },
  {
   "cell_type": "code",
   "execution_count": 16,
   "id": "4df7a613",
   "metadata": {},
   "outputs": [],
   "source": [
    "df.to_csv('dataset_clean.csv', index=False)"
   ]
  },
  {
   "cell_type": "markdown",
   "id": "0c7a60b9",
   "metadata": {},
   "source": [
    "## Export d'un dataset avec un seul utilisateur pour simuler un espace client"
   ]
  },
  {
   "cell_type": "code",
   "execution_count": 32,
   "id": "d48df1c4",
   "metadata": {},
   "outputs": [],
   "source": [
    "filtre = df['user_id'] == 1\n",
    "df_one_user = df[filtre]\n",
    "df_one_user.to_csv('donnees_utilisateur.csv', index=False)"
   ]
  }
 ],
 "metadata": {
  "kernelspec": {
   "display_name": "base",
   "language": "python",
   "name": "python3"
  },
  "language_info": {
   "codemirror_mode": {
    "name": "ipython",
    "version": 3
   },
   "file_extension": ".py",
   "mimetype": "text/x-python",
   "name": "python",
   "nbconvert_exporter": "python",
   "pygments_lexer": "ipython3",
   "version": "3.12.4"
  }
 },
 "nbformat": 4,
 "nbformat_minor": 5
}
